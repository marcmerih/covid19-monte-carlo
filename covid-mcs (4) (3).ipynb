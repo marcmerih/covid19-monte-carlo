{
 "cells": [
  {
   "cell_type": "code",
   "execution_count": null,
   "metadata": {},
   "outputs": [],
   "source": [
    "# Created by Marc Merih Atasoy, 2020"
   ]
  },
  {
   "cell_type": "code",
   "execution_count": 1,
   "metadata": {},
   "outputs": [],
   "source": [
    "import matplotlib.pyplot as plt\n",
    "import numpy as np\n",
    "import pandas as pd\n",
    "import math as m\n",
    "import random\n",
    "import statistics as stat"
   ]
  },
  {
   "cell_type": "code",
   "execution_count": 2,
   "metadata": {},
   "outputs": [],
   "source": [
    "# Legend & Controls\n",
    "\n",
    "numberOfIters = 10000 # Length of monte carlo simulation\n",
    "boxes = 6 # Number of weekly chunks that project is divided in.\n",
    "iterationResults = [] # Going to have 10,000 arrays, each containing 6 boxResult arrays.\n",
    "dailyProbabilityOfInfection = 1 # Given in percentages (%)\n",
    "\n",
    "#Example:\n",
    "# iterationResults(i,j) = [[x11,x12,x13,x14,x15,x16],[x21,x22,x23,x24,x25x,26],...,[x100001,x100002,x100003,..,x100006]]"
   ]
  },
  {
   "cell_type": "code",
   "execution_count": 3,
   "metadata": {},
   "outputs": [
    {
     "name": "stdout",
     "output_type": "stream",
     "text": [
      "Finished Monte Carlo Simulation\n"
     ]
    }
   ],
   "source": [
    "# Monte Carlo Simulation\n",
    "\n",
    "random.seed(15) # Create a seed for consistent psuedo-random number generation\n",
    "\n",
    "for iter in range(numberOfIters): # Run numer_of_iters iterations\n",
    "    boxResult = [] # The array representing the number of days for the ith iteration, in the jth box.\n",
    "    for box in range(boxes):\n",
    "        numberOfTotalDays = 0\n",
    "        numberOfWorkedDays = 0\n",
    "        while (numberOfWorkedDays < 66):\n",
    "            randomVariable = random.randint(0,100) # Generate a random variable between 0 and 100.\n",
    "            if (randomVariable <= (100 - dailyProbabilityOfInfection)):\n",
    "                numberOfWorkedDays += 1\n",
    "                numberOfTotalDays += 1\n",
    "            else:\n",
    "                if (box < 2): # The quarantine period for commodity boxes are 5 days, since they can be easily replaced.\n",
    "                    numberOfTotalDays += 5\n",
    "                else: # The quarantine period for commodity boxes are 2 weeks (14 days).\n",
    "                    numberOfTotalDays += 14\n",
    "        boxResult.append(numberOfTotalDays) # In days.\n",
    "    iterationResults.append(boxResult) # In arrays of days.\n",
    "print(\"Finished Monte Carlo Simulation\")"
   ]
  },
  {
   "cell_type": "code",
   "execution_count": 61,
   "metadata": {},
   "outputs": [],
   "source": [
    "# Calculating arrays of total number of days and total number of weeks across all iterations.\n",
    "\n",
    "totalDaysPerIter = []\n",
    "totalWeeksPerIter = []\n",
    "for iter in iterationResults:\n",
    "    totalDays = sum(iter)\n",
    "    totalDaysPerIter.append(totalDays)\n",
    "    totalWeeksPerIter.append(totalDays / 6)"
   ]
  },
  {
   "cell_type": "code",
   "execution_count": null,
   "metadata": {},
   "outputs": [],
   "source": [
    "# Statistics Calculations\n",
    "\n",
    "# Expected total duration calculations\n",
    "averageProjectDurationDays = stat.mean(totalDaysPerIter)\n",
    "averageProjectDurationWeeks = stat.mean(totalWeeksPerIter)\n",
    "\n",
    "# Standard deviation for duration calculations\n",
    "stdDevProjectDurationDays = stat.stdev(totalDaysPerIter)\n",
    "stdDevProjectDurationWeeks = stat.stdev(totalWeeksPerIter)\n",
    "\n",
    "# Expected duration calculations per box\n",
    "byBoxResults = [] # in days\n",
    "for box in range(boxes):\n",
    "    currBox = []\n",
    "    for iter in range(numberOfIters):\n",
    "        currBox.append(iterationResults[iter][box])\n",
    "    byBoxResults.append(currBox)\n",
    "\n",
    "boxAverages = [] # in weeks\n",
    "for box in range(boxes):\n",
    "    boxAverages.append(float('{0:.3g}'.format(stat.mean(byBoxResults[box]) / 6)))\n",
    "\n",
    "# Duration to first infection calculations\n",
    "geometricRVexpectedValue = (1 / (dailyProbabilityOfInfection / 100))\n",
    "geometricRVvar = (1 - (dailyProbabilityOfInfection / 100)) / (dailyProbabilityOfInfection / 100)**2\n",
    "geometricRVstdDev = m.sqrt(geometricRVvar)\n",
    "\n",
    "# Print statements\n",
    "print(\"The average duration for construction works (in days) across\", numberOfIters, \"iterations is: \")\n",
    "print('{0:.3g}'.format(averageProjectDurationDays))\n",
    "print(\"\\nThe standard deviation of duration for construction works (in days) across\", numberOfIters, \"iterations is: \")\n",
    "print('{0:.3g}'.format(stdDevProjectDurationDays))\n",
    "print(\"\\nThe average duration for construction works (in weeks) across\", numberOfIters, \"iterations is: \")\n",
    "print('{0:.3g}'.format(averageProjectDurationWeeks))\n",
    "print(\"\\nThe standard deviation of duration for construction works (in weeks) across\", numberOfIters, \"iterations is: \")\n",
    "print('{0:.3g}'.format(stdDevProjectDurationWeeks))\n",
    "print(\"\\nThe average duration of construction works  by box (in weeks) across\", numberOfIters, \"is: \")\n",
    "print(boxAverages)\n",
    "print(\"\\nThe expected number of work days until first infection occurring is: \")\n",
    "print('{0:.3g}'.format(geometricRVexpectedValue), \", with standard deviation: \", '{0:.3g}'.format(geometricRVstdDev))\n",
    "print(\"\")\n",
    "\n",
    "# Graphs and histograms\n",
    "print(\"\\n---------------------------- GRAPHS AND HISTOGRAMS ----------------------------\")\n",
    "\n",
    "print(\"\\nThe histogram of total project duration (in weeks): \\n\")\n",
    "_ = plt.hist(totalWeeksPerIter, bins = 20, color = 'red')"
   ]
  },
  {
   "cell_type": "code",
   "execution_count": 57,
   "metadata": {},
   "outputs": [
    {
     "name": "stdout",
     "output_type": "stream",
     "text": [
      "The cumulative histogram of total project duration (in weeks): \n"
     ]
    },
    {
     "data": {
      "image/png": "[encoded data removed]",
      "text/plain": [
       "<Figure size 432x288 with 1 Axes>"
      ]
     },
     "metadata": {
      "needs_background": "light"
     },
     "output_type": "display_data"
    }
   ],
   "source": [
    "print(\"The cumulative histogram of total project duration (in weeks): \")\n",
    "_ = plt.hist(totalWeeksPerIter, bins = 20, cumulative = 'true', histtype = 'stepfilled', color = 'red')"
   ]
  },
  {
   "cell_type": "code",
   "execution_count": 58,
   "metadata": {},
   "outputs": [
    {
     "name": "stdout",
     "output_type": "stream",
     "text": [
      "The cumulative distribution function for number of weeks is: \n"
     ]
    },
    {
     "data": {
      "image/png": "[encoded data removed]",
      "text/plain": [
       "<Figure size 432x288 with 1 Axes>"
      ]
     },
     "metadata": {
      "needs_background": "light"
     },
     "output_type": "display_data"
    }
   ],
   "source": [
    "# Cumulative distribution function (CDF)\n",
    "\n",
    "print(\"The cumulative distribution function for number of weeks is: \")\n",
    "sortedTotalWeeks = np.sort(totalWeeksPerIter)\n",
    "freq = []\n",
    "for iter in range(numberOfIters):\n",
    "    freq.append(iter/numberOfIters)\n",
    "    \n",
    "_ = plt.plot(sortedTotalWeeks, freq, color=\"r\")"
   ]
  },
  {
   "cell_type": "code",
   "execution_count": null,
   "metadata": {},
   "outputs": [],
   "source": []
  }
 ],
 "metadata": {
  "kernelspec": {
   "display_name": "Python 3",
   "language": "python",
   "name": "python3"
  },
  "language_info": {
   "codemirror_mode": {
    "name": "ipython",
    "version": 3
   },
   "file_extension": ".py",
   "mimetype": "text/x-python",
   "name": "python",
   "nbconvert_exporter": "python",
   "pygments_lexer": "ipython3",
   "version": "3.6.10"
  }
 },
 "nbformat": 4,
 "nbformat_minor": 4
}
